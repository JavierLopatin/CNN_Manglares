{
 "cells": [
  {
   "cell_type": "code",
   "execution_count": 24,
   "metadata": {},
   "outputs": [],
   "source": [
    "# cargamos las librerias en el sistema\n",
    "import rasterio\n",
    "import rasterio.mask\n",
    "import geopandas as gpd\n",
    "import rioxarray as rxr\n",
    "from geocube.api.core import make_geocube\n",
    "import os"
   ]
  },
  {
   "cell_type": "code",
   "execution_count": 2,
   "metadata": {},
   "outputs": [
    {
     "data": {
      "text/html": [
       "<div>\n",
       "<style scoped>\n",
       "    .dataframe tbody tr th:only-of-type {\n",
       "        vertical-align: middle;\n",
       "    }\n",
       "\n",
       "    .dataframe tbody tr th {\n",
       "        vertical-align: top;\n",
       "    }\n",
       "\n",
       "    .dataframe thead th {\n",
       "        text-align: right;\n",
       "    }\n",
       "</style>\n",
       "<table border=\"1\" class=\"dataframe\">\n",
       "  <thead>\n",
       "    <tr style=\"text-align: right;\">\n",
       "      <th></th>\n",
       "      <th>OBJECTID</th>\n",
       "      <th>Name</th>\n",
       "      <th>Code</th>\n",
       "      <th>Shape_Leng</th>\n",
       "      <th>Shape_Area</th>\n",
       "      <th>geometry</th>\n",
       "    </tr>\n",
       "  </thead>\n",
       "  <tbody>\n",
       "    <tr>\n",
       "      <th>0</th>\n",
       "      <td>1</td>\n",
       "      <td>1 ParB</td>\n",
       "      <td>3</td>\n",
       "      <td>1904.002190</td>\n",
       "      <td>42754.872071</td>\n",
       "      <td>POLYGON ((559679.438 888813.491, 559680.232 88...</td>\n",
       "    </tr>\n",
       "    <tr>\n",
       "      <th>1</th>\n",
       "      <td>2</td>\n",
       "      <td>1 ParB</td>\n",
       "      <td>4</td>\n",
       "      <td>1780.842289</td>\n",
       "      <td>131007.732503</td>\n",
       "      <td>POLYGON ((559679.438 888813.491, 559280.284 88...</td>\n",
       "    </tr>\n",
       "    <tr>\n",
       "      <th>2</th>\n",
       "      <td>3</td>\n",
       "      <td>1 ParB</td>\n",
       "      <td>16</td>\n",
       "      <td>1525.451701</td>\n",
       "      <td>76237.395426</td>\n",
       "      <td>POLYGON ((559780.284 888847.537, 559771.831 88...</td>\n",
       "    </tr>\n",
       "    <tr>\n",
       "      <th>3</th>\n",
       "      <td>4</td>\n",
       "      <td>10 ParB</td>\n",
       "      <td>1</td>\n",
       "      <td>1741.281341</td>\n",
       "      <td>147916.131599</td>\n",
       "      <td>POLYGON ((572700.402 919661.934, 572701.952 91...</td>\n",
       "    </tr>\n",
       "    <tr>\n",
       "      <th>4</th>\n",
       "      <td>5</td>\n",
       "      <td>10 ParB</td>\n",
       "      <td>5</td>\n",
       "      <td>2472.043165</td>\n",
       "      <td>40912.174507</td>\n",
       "      <td>MULTIPOLYGON (((572609.894 919661.934, 572600....</td>\n",
       "    </tr>\n",
       "    <tr>\n",
       "      <th>...</th>\n",
       "      <td>...</td>\n",
       "      <td>...</td>\n",
       "      <td>...</td>\n",
       "      <td>...</td>\n",
       "      <td>...</td>\n",
       "      <td>...</td>\n",
       "    </tr>\n",
       "    <tr>\n",
       "      <th>188</th>\n",
       "      <td>190</td>\n",
       "      <td>Anexo 8</td>\n",
       "      <td>16</td>\n",
       "      <td>639.818516</td>\n",
       "      <td>6931.458661</td>\n",
       "      <td>MULTIPOLYGON (((568244.425 922492.041, 568208....</td>\n",
       "    </tr>\n",
       "    <tr>\n",
       "      <th>189</th>\n",
       "      <td>191</td>\n",
       "      <td>Anexo 8</td>\n",
       "      <td>20</td>\n",
       "      <td>1698.600182</td>\n",
       "      <td>31146.568475</td>\n",
       "      <td>POLYGON ((568684.797 922631.520, 568684.797 92...</td>\n",
       "    </tr>\n",
       "    <tr>\n",
       "      <th>190</th>\n",
       "      <td>192</td>\n",
       "      <td>Anexo 9</td>\n",
       "      <td>2</td>\n",
       "      <td>1729.557193</td>\n",
       "      <td>49142.763716</td>\n",
       "      <td>POLYGON ((567341.953 922277.345, 567124.818 92...</td>\n",
       "    </tr>\n",
       "    <tr>\n",
       "      <th>191</th>\n",
       "      <td>193</td>\n",
       "      <td>Anexo 9</td>\n",
       "      <td>4</td>\n",
       "      <td>933.681396</td>\n",
       "      <td>22086.093936</td>\n",
       "      <td>MULTIPOLYGON (((567193.220 922665.429, 567174....</td>\n",
       "    </tr>\n",
       "    <tr>\n",
       "      <th>192</th>\n",
       "      <td>194</td>\n",
       "      <td>Anexo 9</td>\n",
       "      <td>5</td>\n",
       "      <td>1918.756591</td>\n",
       "      <td>178771.129125</td>\n",
       "      <td>POLYGON ((567624.818 922660.644, 567624.818 92...</td>\n",
       "    </tr>\n",
       "  </tbody>\n",
       "</table>\n",
       "<p>193 rows × 6 columns</p>\n",
       "</div>"
      ],
      "text/plain": [
       "     OBJECTID     Name  Code   Shape_Leng     Shape_Area  \\\n",
       "0           1   1 ParB     3  1904.002190   42754.872071   \n",
       "1           2   1 ParB     4  1780.842289  131007.732503   \n",
       "2           3   1 ParB    16  1525.451701   76237.395426   \n",
       "3           4  10 ParB     1  1741.281341  147916.131599   \n",
       "4           5  10 ParB     5  2472.043165   40912.174507   \n",
       "..        ...      ...   ...          ...            ...   \n",
       "188       190  Anexo 8    16   639.818516    6931.458661   \n",
       "189       191  Anexo 8    20  1698.600182   31146.568475   \n",
       "190       192  Anexo 9     2  1729.557193   49142.763716   \n",
       "191       193  Anexo 9     4   933.681396   22086.093936   \n",
       "192       194  Anexo 9     5  1918.756591  178771.129125   \n",
       "\n",
       "                                              geometry  \n",
       "0    POLYGON ((559679.438 888813.491, 559680.232 88...  \n",
       "1    POLYGON ((559679.438 888813.491, 559280.284 88...  \n",
       "2    POLYGON ((559780.284 888847.537, 559771.831 88...  \n",
       "3    POLYGON ((572700.402 919661.934, 572701.952 91...  \n",
       "4    MULTIPOLYGON (((572609.894 919661.934, 572600....  \n",
       "..                                                 ...  \n",
       "188  MULTIPOLYGON (((568244.425 922492.041, 568208....  \n",
       "189  POLYGON ((568684.797 922631.520, 568684.797 92...  \n",
       "190  POLYGON ((567341.953 922277.345, 567124.818 92...  \n",
       "191  MULTIPOLYGON (((567193.220 922665.429, 567174....  \n",
       "192  POLYGON ((567624.818 922660.644, 567624.818 92...  \n",
       "\n",
       "[193 rows x 6 columns]"
      ]
     },
     "execution_count": 2,
     "metadata": {},
     "output_type": "execute_result"
    }
   ],
   "source": [
    "shp = gpd.read_file('shp/ClasVisual_042023.shp')\n",
    "shp"
   ]
  },
  {
   "cell_type": "code",
   "execution_count": 3,
   "metadata": {},
   "outputs": [
    {
     "data": {
      "text/plain": [
       "array(['1 ParB', '10 ParB', '11 ParB', '12 ParB', '13 ParB', '14 ParB',\n",
       "       '15 ParB a', '15 ParB b', '17 ParB', '18 ParB', '19 ParB',\n",
       "       '2 ParB', '20 ParB', '21 ParB a', '21 ParBb', '3 ParB', '4 ParB',\n",
       "       '5 ParB', '6 ParB', '7 ParB', '8 ParB', '9 ParB', 'Anexo 1',\n",
       "       'Anexo 10', 'Anexo 11', 'Anexo 12', 'Anexo 13', 'Anexo 14',\n",
       "       'Anexo 15', 'Anexo 16', 'Anexo 18', 'Anexo 19', 'Anexo 2',\n",
       "       'Anexo 20', 'Anexo 3', 'Anexo 4', 'Anexo 5', 'Anexo 6', 'Anexo 7',\n",
       "       'Anexo 8', 'Anexo 9'], dtype=object)"
      ]
     },
     "execution_count": 3,
     "metadata": {},
     "output_type": "execute_result"
    }
   ],
   "source": [
    "sitios = shp.Name.unique()\n",
    "sitios"
   ]
  },
  {
   "cell_type": "code",
   "execution_count": 22,
   "metadata": {},
   "outputs": [
    {
     "data": {
      "text/plain": [
       "['1 ParB',\n",
       " '10 ParB',\n",
       " '11 ParB',\n",
       " '12 ParB',\n",
       " '13 ParB',\n",
       " '14 ParB',\n",
       " '15 ParB a',\n",
       " '15 ParB b',\n",
       " '17 ParB',\n",
       " '18 ParB',\n",
       " '19 ParB',\n",
       " '2 ParB',\n",
       " '20 ParB',\n",
       " '21 ParB a',\n",
       " '21 ParBb',\n",
       " '3 ParB',\n",
       " '4 ParB',\n",
       " '5 ParB',\n",
       " '6 ParB',\n",
       " '7 ParB',\n",
       " '8 ParB',\n",
       " '9 ParB',\n",
       " 'Anexo 1',\n",
       " 'Anexo 10',\n",
       " 'Anexo 11',\n",
       " 'Anexo 12',\n",
       " 'Anexo 13',\n",
       " 'Anexo 14',\n",
       " 'Anexo 16',\n",
       " 'Anexo 18',\n",
       " 'Anexo 19',\n",
       " 'Anexo 2',\n",
       " 'Anexo 20',\n",
       " 'Anexo 3',\n",
       " 'Anexo 4',\n",
       " 'Anexo 5',\n",
       " 'Anexo 6',\n",
       " 'Anexo 7',\n",
       " 'Anexo 8',\n",
       " 'Anexo 9']"
      ]
     },
     "execution_count": 22,
     "metadata": {},
     "output_type": "execute_result"
    }
   ],
   "source": [
    "# remove Anexo 15 from list\n",
    "sitios = [x for x in sitios if x != 'Anexo 15']\n",
    "sitios"
   ]
  },
  {
   "cell_type": "code",
   "execution_count": 7,
   "metadata": {},
   "outputs": [],
   "source": [
    "# create a label folder if it does not exist using python\n",
    "if not os.path.exists('labels_shp'):\n",
    "    os.makedirs('labels_shp')"
   ]
  },
  {
   "cell_type": "code",
   "execution_count": 8,
   "metadata": {},
   "outputs": [
    {
     "name": "stdout",
     "output_type": "stream",
     "text": [
      "1 ParB\n",
      "10 ParB\n",
      "11 ParB\n",
      "12 ParB\n",
      "13 ParB\n",
      "14 ParB\n",
      "15 ParB a\n",
      "15 ParB b\n",
      "17 ParB\n",
      "18 ParB\n",
      "19 ParB\n",
      "2 ParB\n",
      "20 ParB\n",
      "21 ParB a\n",
      "21 ParBb\n",
      "3 ParB\n",
      "4 ParB\n",
      "5 ParB\n",
      "6 ParB\n",
      "7 ParB\n",
      "8 ParB\n",
      "9 ParB\n",
      "Anexo 1\n",
      "Anexo 10\n",
      "Anexo 11\n",
      "Anexo 12\n",
      "Anexo 13\n",
      "Anexo 14\n",
      "Anexo 15\n",
      "Anexo 16\n",
      "Anexo 18\n",
      "Anexo 19\n",
      "Anexo 2\n",
      "Anexo 20\n",
      "Anexo 3\n",
      "Anexo 4\n",
      "Anexo 5\n",
      "Anexo 6\n",
      "Anexo 7\n",
      "Anexo 8\n",
      "Anexo 9\n"
     ]
    }
   ],
   "source": [
    "for site in sitios:\n",
    "    print(site)\n",
    "    sitio_id = shp.where(shp.Name == site).dropna()\n",
    "    # sate to labels_shape folder\n",
    "    sitio_id.to_file('labels_shp/{}.gpkg'.format(site), driver='GPKG')  \n"
   ]
  },
  {
   "cell_type": "code",
   "execution_count": 9,
   "metadata": {},
   "outputs": [],
   "source": [
    "# create a label folder if it does not exist using python\n",
    "if not os.path.exists('labels_raster'):\n",
    "    os.makedirs('labels_raster')"
   ]
  },
  {
   "cell_type": "code",
   "execution_count": 23,
   "metadata": {},
   "outputs": [
    {
     "name": "stdout",
     "output_type": "stream",
     "text": [
      "1 ParB\n",
      "10 ParB\n",
      "11 ParB\n",
      "12 ParB\n",
      "13 ParB\n",
      "14 ParB\n",
      "15 ParB a\n",
      "15 ParB b\n",
      "17 ParB\n",
      "18 ParB\n",
      "19 ParB\n",
      "2 ParB\n",
      "20 ParB\n",
      "21 ParB a\n",
      "21 ParBb\n",
      "3 ParB\n",
      "4 ParB\n",
      "5 ParB\n",
      "6 ParB\n",
      "7 ParB\n",
      "8 ParB\n",
      "9 ParB\n",
      "Anexo 1\n",
      "Anexo 10\n",
      "Anexo 11\n",
      "Anexo 12\n",
      "Anexo 13\n",
      "Anexo 14\n",
      "Anexo 16\n",
      "Anexo 18\n",
      "Anexo 19\n",
      "Anexo 2\n",
      "Anexo 20\n",
      "Anexo 3\n",
      "Anexo 4\n",
      "Anexo 5\n",
      "Anexo 6\n",
      "Anexo 7\n",
      "Anexo 8\n",
      "Anexo 9\n"
     ]
    }
   ],
   "source": [
    "for site in sitios:\n",
    "    print(site)\n",
    "    # rasterize\n",
    "    out_grid = make_geocube(\n",
    "        vector_data = 'labels_shp/' + site + '.gpkg',\n",
    "        measurements = [\"Code\"],\n",
    "        resolution = (-0.5, 0.5), # resolution of the MAXAR image\n",
    "    )\n",
    "    out_grid[\"Code\"].rio.to_raster('labels_raster/' + site + '.tif')"
   ]
  },
  {
   "cell_type": "code",
   "execution_count": 28,
   "metadata": {},
   "outputs": [
    {
     "data": {
      "text/plain": [
       "<matplotlib.collections.QuadMesh at 0x7fe7153bc640>"
      ]
     },
     "execution_count": 28,
     "metadata": {},
     "output_type": "execute_result"
    },
    {
     "data": {
      "image/png": "[encoded data removed]",
      "text/plain": [
       "<Figure size 640x480 with 2 Axes>"
      ]
     },
     "metadata": {},
     "output_type": "display_data"
    }
   ],
   "source": [
    "# load lebel examples\n",
    "test = rxr.open_rasterio('labels_raster/Anexo 1.tif')\n",
    "test.plot()"
   ]
  }
 ],
 "metadata": {
  "kernelspec": {
   "display_name": "base",
   "language": "python",
   "name": "python3"
  },
  "language_info": {
   "codemirror_mode": {
    "name": "ipython",
    "version": 3
   },
   "file_extension": ".py",
   "mimetype": "text/x-python",
   "name": "python",
   "nbconvert_exporter": "python",
   "pygments_lexer": "ipython3",
   "version": "3.10.4"
  },
  "orig_nbformat": 4,
  "vscode": {
   "interpreter": {
    "hash": "ad96ca6dad53e28697ac9aed69aca59b747d1fa0ce9978e6eee1be8abb42aa6a"
   }
  }
 },
 "nbformat": 4,
 "nbformat_minor": 2
}
