{
 "cells": [
  {
   "attachments": {},
   "cell_type": "markdown",
   "id": "423de7af",
   "metadata": {},
   "source": [
    "### Processing and dowloading Sentine-2 10 m bands using the Data Cube Chile platform\n",
    "https://datacubechile.cl/"
   ]
  },
  {
   "cell_type": "code",
   "execution_count": null,
   "id": "bceea013-8704-4d63-93d1-0802567ff008",
   "metadata": {
    "tags": []
   },
   "outputs": [],
   "source": [
    "%matplotlib inline\n",
    "\n",
    "import datacube\n",
    "import pandas as pd\n",
    "from odc.ui import DcViewer\n",
    "import geopandas as gpd\n",
    "import matplotlib.pyplot as plt\n",
    "import rioxarray as rio\n",
    "import numpy as np\n",
    "\n",
    "from datacube.utils import masking\n",
    "from datacube.utils.rio import configure_s3_access\n",
    "configure_s3_access(aws_unsigned=False, requester_pays=True)"
   ]
  },
  {
   "cell_type": "code",
   "execution_count": 14,
   "id": "10690017-c0d2-4582-b377-03f46f89a0e8",
   "metadata": {
    "tags": []
   },
   "outputs": [],
   "source": [
    "dc = datacube.Datacube(app='mangles')"
   ]
  },
  {
   "cell_type": "code",
   "execution_count": 2,
   "id": "0e8d00dc-49f2-4bc0-9771-4c10bf443f68",
   "metadata": {
    "tags": []
   },
   "outputs": [
    {
     "name": "stderr",
     "output_type": "stream",
     "text": [
      "/env/lib/python3.10/site-packages/pygeos/io.py:89: UserWarning: The shapely GEOS version (3.10.2-CAPI-1.16.0) is incompatible with the PyGEOS GEOS version (3.10.2-CAPI-1.16.0). Conversions between both will be slow\n",
      "  warnings.warn(\n"
     ]
    },
    {
     "data": {
      "text/html": [
       "<div>\n",
       "<style scoped>\n",
       "    .dataframe tbody tr th:only-of-type {\n",
       "        vertical-align: middle;\n",
       "    }\n",
       "\n",
       "    .dataframe tbody tr th {\n",
       "        vertical-align: top;\n",
       "    }\n",
       "\n",
       "    .dataframe thead th {\n",
       "        text-align: right;\n",
       "    }\n",
       "</style>\n",
       "<table border=\"1\" class=\"dataframe\">\n",
       "  <thead>\n",
       "    <tr style=\"text-align: right;\">\n",
       "      <th></th>\n",
       "      <th>OBJECTID</th>\n",
       "      <th>Name</th>\n",
       "      <th>Code</th>\n",
       "      <th>Shape_Leng</th>\n",
       "      <th>Shape_Area</th>\n",
       "      <th>geometry</th>\n",
       "    </tr>\n",
       "  </thead>\n",
       "  <tbody>\n",
       "    <tr>\n",
       "      <th>0</th>\n",
       "      <td>1</td>\n",
       "      <td>1 ParB</td>\n",
       "      <td>3</td>\n",
       "      <td>1904.002190</td>\n",
       "      <td>42754.872071</td>\n",
       "      <td>POLYGON ((559679.438 888813.491, 559680.232 88...</td>\n",
       "    </tr>\n",
       "    <tr>\n",
       "      <th>1</th>\n",
       "      <td>2</td>\n",
       "      <td>1 ParB</td>\n",
       "      <td>4</td>\n",
       "      <td>1780.842289</td>\n",
       "      <td>131007.732503</td>\n",
       "      <td>POLYGON ((559679.438 888813.491, 559280.284 88...</td>\n",
       "    </tr>\n",
       "    <tr>\n",
       "      <th>2</th>\n",
       "      <td>3</td>\n",
       "      <td>1 ParB</td>\n",
       "      <td>16</td>\n",
       "      <td>1525.451701</td>\n",
       "      <td>76237.395426</td>\n",
       "      <td>POLYGON ((559780.284 888847.537, 559771.831 88...</td>\n",
       "    </tr>\n",
       "    <tr>\n",
       "      <th>3</th>\n",
       "      <td>4</td>\n",
       "      <td>10 ParB</td>\n",
       "      <td>1</td>\n",
       "      <td>1741.281341</td>\n",
       "      <td>147916.131599</td>\n",
       "      <td>POLYGON ((572700.402 919661.934, 572701.952 91...</td>\n",
       "    </tr>\n",
       "    <tr>\n",
       "      <th>4</th>\n",
       "      <td>5</td>\n",
       "      <td>10 ParB</td>\n",
       "      <td>5</td>\n",
       "      <td>2472.043165</td>\n",
       "      <td>40912.174507</td>\n",
       "      <td>MULTIPOLYGON (((572609.894 919661.934, 572600....</td>\n",
       "    </tr>\n",
       "    <tr>\n",
       "      <th>...</th>\n",
       "      <td>...</td>\n",
       "      <td>...</td>\n",
       "      <td>...</td>\n",
       "      <td>...</td>\n",
       "      <td>...</td>\n",
       "      <td>...</td>\n",
       "    </tr>\n",
       "    <tr>\n",
       "      <th>188</th>\n",
       "      <td>190</td>\n",
       "      <td>Anexo 8</td>\n",
       "      <td>16</td>\n",
       "      <td>639.818516</td>\n",
       "      <td>6931.458661</td>\n",
       "      <td>MULTIPOLYGON (((568244.425 922492.041, 568208....</td>\n",
       "    </tr>\n",
       "    <tr>\n",
       "      <th>189</th>\n",
       "      <td>191</td>\n",
       "      <td>Anexo 8</td>\n",
       "      <td>20</td>\n",
       "      <td>1698.600182</td>\n",
       "      <td>31146.568475</td>\n",
       "      <td>POLYGON ((568684.797 922631.520, 568684.797 92...</td>\n",
       "    </tr>\n",
       "    <tr>\n",
       "      <th>190</th>\n",
       "      <td>192</td>\n",
       "      <td>Anexo 9</td>\n",
       "      <td>2</td>\n",
       "      <td>1729.557193</td>\n",
       "      <td>49142.763716</td>\n",
       "      <td>POLYGON ((567341.953 922277.345, 567124.818 92...</td>\n",
       "    </tr>\n",
       "    <tr>\n",
       "      <th>191</th>\n",
       "      <td>193</td>\n",
       "      <td>Anexo 9</td>\n",
       "      <td>4</td>\n",
       "      <td>933.681396</td>\n",
       "      <td>22086.093936</td>\n",
       "      <td>MULTIPOLYGON (((567193.220 922665.429, 567174....</td>\n",
       "    </tr>\n",
       "    <tr>\n",
       "      <th>192</th>\n",
       "      <td>194</td>\n",
       "      <td>Anexo 9</td>\n",
       "      <td>5</td>\n",
       "      <td>1918.756591</td>\n",
       "      <td>178771.129125</td>\n",
       "      <td>POLYGON ((567624.818 922660.644, 567624.818 92...</td>\n",
       "    </tr>\n",
       "  </tbody>\n",
       "</table>\n",
       "<p>193 rows × 6 columns</p>\n",
       "</div>"
      ],
      "text/plain": [
       "     OBJECTID     Name  Code   Shape_Leng     Shape_Area  \\\n",
       "0           1   1 ParB     3  1904.002190   42754.872071   \n",
       "1           2   1 ParB     4  1780.842289  131007.732503   \n",
       "2           3   1 ParB    16  1525.451701   76237.395426   \n",
       "3           4  10 ParB     1  1741.281341  147916.131599   \n",
       "4           5  10 ParB     5  2472.043165   40912.174507   \n",
       "..        ...      ...   ...          ...            ...   \n",
       "188       190  Anexo 8    16   639.818516    6931.458661   \n",
       "189       191  Anexo 8    20  1698.600182   31146.568475   \n",
       "190       192  Anexo 9     2  1729.557193   49142.763716   \n",
       "191       193  Anexo 9     4   933.681396   22086.093936   \n",
       "192       194  Anexo 9     5  1918.756591  178771.129125   \n",
       "\n",
       "                                              geometry  \n",
       "0    POLYGON ((559679.438 888813.491, 559680.232 88...  \n",
       "1    POLYGON ((559679.438 888813.491, 559280.284 88...  \n",
       "2    POLYGON ((559780.284 888847.537, 559771.831 88...  \n",
       "3    POLYGON ((572700.402 919661.934, 572701.952 91...  \n",
       "4    MULTIPOLYGON (((572609.894 919661.934, 572600....  \n",
       "..                                                 ...  \n",
       "188  MULTIPOLYGON (((568244.425 922492.041, 568208....  \n",
       "189  POLYGON ((568684.797 922631.520, 568684.797 92...  \n",
       "190  POLYGON ((567341.953 922277.345, 567124.818 92...  \n",
       "191  MULTIPOLYGON (((567193.220 922665.429, 567174....  \n",
       "192  POLYGON ((567624.818 922660.644, 567624.818 92...  \n",
       "\n",
       "[193 rows x 6 columns]"
      ]
     },
     "execution_count": 2,
     "metadata": {},
     "output_type": "execute_result"
    }
   ],
   "source": [
    "shp = gpd.read_file('Mangles/ClasVisual_042023.shp')\n",
    "shp"
   ]
  },
  {
   "cell_type": "code",
   "execution_count": 3,
   "id": "a34d407c-78b8-4d57-b3f6-491524defe22",
   "metadata": {
    "tags": []
   },
   "outputs": [
    {
     "data": {
      "text/plain": [
       "array(['1 ParB', '10 ParB', '11 ParB', '12 ParB', '13 ParB', '14 ParB',\n",
       "       '15 ParB a', '15 ParB b', '17 ParB', '18 ParB', '19 ParB',\n",
       "       '2 ParB', '20 ParB', '21 ParB a', '21 ParBb', '3 ParB', '4 ParB',\n",
       "       '5 ParB', '6 ParB', '7 ParB', '8 ParB', '9 ParB', 'Anexo 1',\n",
       "       'Anexo 10', 'Anexo 11', 'Anexo 12', 'Anexo 13', 'Anexo 14',\n",
       "       'Anexo 15', 'Anexo 16', 'Anexo 18', 'Anexo 19', 'Anexo 2',\n",
       "       'Anexo 20', 'Anexo 3', 'Anexo 4', 'Anexo 5', 'Anexo 6', 'Anexo 7',\n",
       "       'Anexo 8', 'Anexo 9'], dtype=object)"
      ]
     },
     "execution_count": 3,
     "metadata": {},
     "output_type": "execute_result"
    }
   ],
   "source": [
    "sitios = shp.Name.unique()\n",
    "sitios"
   ]
  },
  {
   "cell_type": "code",
   "execution_count": 4,
   "id": "e335dda7-664a-4729-bb11-cc15d8f5c645",
   "metadata": {
    "tags": []
   },
   "outputs": [
    {
     "data": {
      "text/plain": [
       "['1 ParB',\n",
       " '10 ParB',\n",
       " '11 ParB',\n",
       " '12 ParB',\n",
       " '13 ParB',\n",
       " '14 ParB',\n",
       " '15 ParB a',\n",
       " '15 ParB b',\n",
       " '17 ParB',\n",
       " '18 ParB',\n",
       " '19 ParB',\n",
       " '2 ParB',\n",
       " '20 ParB',\n",
       " '21 ParB a',\n",
       " '21 ParBb',\n",
       " '3 ParB',\n",
       " '4 ParB',\n",
       " '5 ParB',\n",
       " '6 ParB',\n",
       " '7 ParB',\n",
       " '8 ParB',\n",
       " '9 ParB',\n",
       " 'Anexo 1',\n",
       " 'Anexo 10',\n",
       " 'Anexo 11',\n",
       " 'Anexo 12',\n",
       " 'Anexo 13',\n",
       " 'Anexo 14',\n",
       " 'Anexo 16',\n",
       " 'Anexo 18',\n",
       " 'Anexo 19',\n",
       " 'Anexo 2',\n",
       " 'Anexo 20',\n",
       " 'Anexo 3',\n",
       " 'Anexo 4',\n",
       " 'Anexo 5',\n",
       " 'Anexo 6',\n",
       " 'Anexo 7',\n",
       " 'Anexo 8',\n",
       " 'Anexo 9']"
      ]
     },
     "execution_count": 4,
     "metadata": {},
     "output_type": "execute_result"
    }
   ],
   "source": [
    "# remove Anexo 15 from list\n",
    "sitios = [x for x in sitios if x != 'Anexo 15']\n",
    "sitios"
   ]
  },
  {
   "cell_type": "code",
   "execution_count": 64,
   "id": "129a5858-37af-4d25-86ad-279c089f590b",
   "metadata": {
    "tags": []
   },
   "outputs": [],
   "source": [
    "product = \"s2_l2a\"\n",
    "bands = [\"B02\", \"B03\", \"B04\", \"B08\", \"SCL\"]\n",
    "\n",
    "sr_bands = bands.copy()\n",
    "sr_bands.remove(\"SCL\")"
   ]
  },
  {
   "cell_type": "code",
   "execution_count": 74,
   "id": "647399a9-59ba-47ea-8c59-f20264df7d9d",
   "metadata": {
    "tags": []
   },
   "outputs": [],
   "source": [
    "def cloudMask(img):\n",
    "    from odc.algo import keep_good_only, geomedian_with_mads, to_f32\n",
    "    \n",
    "    \n",
    "    fmask_band = \"SCL\"\n",
    "    good_pixel_flags = [\n",
    "        \"vegetation\",\n",
    "        \"snow or ice\",\n",
    "        \"water\",\n",
    "        \"bare soils\",\n",
    "        \"unclassified\",\n",
    "        \"dark area pixels\",\n",
    "    ]\n",
    "\n",
    "    flags = (\n",
    "        dc.list_measurements()\n",
    "        .loc[product]\n",
    "        .loc[fmask_band][\"flags_definition\"][\"qa\"][\"values\"]\n",
    "    )\n",
    "\n",
    "    pq_mask = img[fmask_band].isin([int(k) for k, v in flags.items() if v in good_pixel_flags])\n",
    "\n",
    "    data = keep_good_only(img[sr_bands], where=pq_mask)\n",
    "\n",
    "    scale, offset = (1/10_000, 0)\n",
    "    return to_f32(data, scale=scale, offset=offset)"
   ]
  },
  {
   "cell_type": "code",
   "execution_count": 76,
   "id": "15cca32e-e3dd-4512-a405-ea830ecb8595",
   "metadata": {
    "tags": []
   },
   "outputs": [],
   "source": [
    "# test on one area\n",
    "site = sitios[0]\n",
    "sitio_id = shp.where(shp.Name == site)#.dropna()\n",
    "# dissolve the polygons\n",
    "diss_id = sitio_id.dissolve(by='Name')\n",
    "\n",
    "\n",
    "img = dc.load(product=product,\n",
    "      measurements=bands,\n",
    "      x=(diss_id.bounds.values[0][0], diss_id.bounds.values[0][2]),\n",
    "      y=(diss_id.bounds.values[0][1], diss_id.bounds.values[0][3]),\n",
    "      crs = 'EPSG:32617',\n",
    "      output_crs = 'EPSG:32617', \n",
    "      time = (\"2023-01-01\", \"2023-03-01\"),\n",
    "      resolution = (-10, 10),\n",
    "      dask_chunks={\"time\": 1}\n",
    "      )\n",
    "\n",
    "img = cloudMask(img)"
   ]
  },
  {
   "cell_type": "code",
   "execution_count": 87,
   "id": "3ab6c342-8d5d-4772-b45d-f626a2d366fe",
   "metadata": {
    "tags": []
   },
   "outputs": [],
   "source": [
    "# any NAN? \n",
    "def isNan(img):\n",
    "    import xarray as xr\n",
    "    # Check for non-NaN values across all dimensions except 'time'\n",
    "    non_nan_mask = img.notnull().all(dim=('x', 'y'))\n",
    "    # Get the indices of 'time' dimension where there are no NaN values\n",
    "    return non_nan_mask.where(non_nan_mask).dropna(dim='time')['time'].values\n",
    "\n",
    "non_nan_time_indices = isNan(img)"
   ]
  },
  {
   "cell_type": "code",
   "execution_count": 89,
   "id": "6a28c15c-b025-436c-a806-2bfe6607af21",
   "metadata": {
    "tags": []
   },
   "outputs": [
    {
     "data": {
      "text/plain": [
       "array(['2023-01-02T16:01:07.000000000', '2023-01-07T16:01:05.000000000',\n",
       "       '2023-01-12T16:01:05.000000000', '2023-01-17T16:01:05.000000000',\n",
       "       '2023-01-22T16:01:04.000000000', '2023-01-27T16:01:05.000000000',\n",
       "       '2023-02-06T16:01:06.000000000', '2023-02-11T16:01:06.000000000',\n",
       "       '2023-02-21T16:01:05.000000000', '2023-02-26T16:01:08.000000000'],\n",
       "      dtype='datetime64[ns]')"
      ]
     },
     "execution_count": 89,
     "metadata": {},
     "output_type": "execute_result"
    }
   ],
   "source": [
    "non_nan_time_indices"
   ]
  },
  {
   "cell_type": "code",
   "execution_count": 107,
   "id": "b405429f-7fc9-4f30-b6e8-978dad6f3e79",
   "metadata": {
    "tags": []
   },
   "outputs": [
    {
     "data": {
      "text/plain": [
       "<matplotlib.collections.QuadMesh at 0x7f0c137f6650>"
      ]
     },
     "execution_count": 107,
     "metadata": {},
     "output_type": "execute_result"
    },
    {
     "data": {
      "image/png": "[encoded data removed]",
      "text/plain": [
       "<Figure size 640x480 with 2 Axes>"
      ]
     },
     "metadata": {},
     "output_type": "display_data"
    }
   ],
   "source": [
    "img.sel(time=non_nan_time_indices[0]).B08.plot()"
   ]
  },
  {
   "cell_type": "code",
   "execution_count": 91,
   "id": "b9b51e7f-8427-4a76-8767-625ba257d769",
   "metadata": {
    "tags": []
   },
   "outputs": [],
   "source": [
    "# all in a loop\n",
    "\n",
    "for site in sitios:\n",
    "    sitio_id = shp.where(shp.Name == site)#.dropna()\n",
    "    # dissolve the polygons\n",
    "    diss_id = sitio_id.dissolve(by='Name')\n",
    "    \n",
    "    img = dc.load(product=product,\n",
    "          measurements=bands,\n",
    "          x=(diss_id.bounds.values[0][0], diss_id.bounds.values[0][2]),\n",
    "          y=(diss_id.bounds.values[0][1], diss_id.bounds.values[0][3]),\n",
    "          crs = 'EPSG:32617',\n",
    "          output_crs = 'EPSG:32617', \n",
    "          time = (\"2023-01-01\", \"2023-03-01\"),\n",
    "          resolution = (-10, 10),\n",
    "          dask_chunks={\"time\": 1}\n",
    "          )\n",
    "    img = cloudMask(img)\n",
    "    \n",
    "    non_nan_time_indices = isNan(img)\n",
    "    \n",
    "    out = img.sel(time=non_nan_time_indices[0])\n",
    "    \n",
    "    out.attrs.pop('grid_mapping', None)  # Add this line to remove the 'grid_mapping' key\n",
    "    out.rio.to_raster('Mangles/tiles_S2/' + site + '.tif')"
   ]
  },
  {
   "cell_type": "code",
   "execution_count": 105,
   "id": "74958924-494b-4550-b717-474d0067c72e",
   "metadata": {
    "tags": []
   },
   "outputs": [
    {
     "data": {
      "text/plain": [
       "<matplotlib.image.AxesImage at 0x7f0c1376c520>"
      ]
     },
     "execution_count": 105,
     "metadata": {},
     "output_type": "execute_result"
    },
    {
     "data": {
      "image/png": "[encoded data removed]",
      "text/plain": [
       "<Figure size 640x480 with 1 Axes>"
      ]
     },
     "metadata": {},
     "output_type": "display_data"
    }
   ],
   "source": [
    "# test outputs\n",
    "rio.open_rasterio('Mangles/tiles_S2/' + sitios[20] + '.tif').isel(band=[3,2,1]).plot.imshow(robust=True)\n"
   ]
  }
 ],
 "metadata": {
  "kernelspec": {
   "display_name": "base",
   "language": "python",
   "name": "python3"
  },
  "language_info": {
   "codemirror_mode": {
    "name": "ipython",
    "version": 3
   },
   "file_extension": ".py",
   "mimetype": "text/x-python",
   "name": "python",
   "nbconvert_exporter": "python",
   "pygments_lexer": "ipython3",
   "version": "3.10.4"
  },
  "vscode": {
   "interpreter": {
    "hash": "ad96ca6dad53e28697ac9aed69aca59b747d1fa0ce9978e6eee1be8abb42aa6a"
   }
  }
 },
 "nbformat": 4,
 "nbformat_minor": 5
}
